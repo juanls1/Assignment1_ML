{
 "cells": [
  {
   "cell_type": "markdown",
   "id": "60b93e2d",
   "metadata": {},
   "source": [
    "# MACHINE LEARNING I\n",
    "# \n",
    "# LAB ASSIGNMENT I: CLASSIFICATION"
   ]
  },
  {
   "cell_type": "markdown",
   "id": "b047f90c",
   "metadata": {},
   "source": [
    "## Authors:\n",
    "\n",
    "- **Alberto García Martín**: \n",
    "\n",
    "- **Jorge Peralta Fernández-Revuelta**:\n",
    "\n",
    "- **Juan López Segura**: 202308780@alu.comillas.edu"
   ]
  },
  {
   "cell_type": "markdown",
   "id": "2066da3c",
   "metadata": {},
   "source": [
    "In this lab assignment, we will analyze the FICO_Dataset.csv dataset and extract conclusions, performing several classification methods properly explained."
   ]
  },
  {
   "cell_type": "markdown",
   "id": "a69c4910",
   "metadata": {},
   "source": [
    "---"
   ]
  },
  {
   "cell_type": "code",
   "execution_count": 12,
   "id": "8fd58a33",
   "metadata": {},
   "outputs": [],
   "source": [
    "### Load necessary modules -------------------------------\n",
    "# interactive plotting\n",
    "%matplotlib inline\n",
    "%config InlineBackend.figure_format = 'svg' # ‘png’, ‘retina’, ‘jpeg’, ‘svg’, ‘pdf’\n",
    "\n",
    "# plotting libraries\n",
    "import seaborn as sns\n",
    "import matplotlib.pyplot as plt\n",
    "sns.set()\n",
    "\n",
    "# Data management libraries\n",
    "import numpy as np # linear algebra\n",
    "import pandas as pd # data processing, CSV file I/O (e.g. pd.read_csv)\n",
    "\n",
    "# Machine learning libraries\n",
    "from sklearn.model_selection import train_test_split"
   ]
  },
  {
   "cell_type": "markdown",
   "id": "43d7b1a5",
   "metadata": {},
   "source": [
    "---"
   ]
  },
  {
   "cell_type": "markdown",
   "id": "c9506954",
   "metadata": {},
   "source": [
    "## 1. Preparing the Dataset"
   ]
  },
  {
   "cell_type": "markdown",
   "id": "074c7ad5",
   "metadata": {},
   "source": [
    "First of all, we start by loading the dataset and taking a look at the first 10 rows, shape of the DataFrame and type of columns in order to understand the variables."
   ]
  },
  {
   "cell_type": "markdown",
   "id": "5dde112d",
   "metadata": {},
   "source": [
    "### STEP 1: IMPORT DATASET"
   ]
  },
  {
   "cell_type": "code",
   "execution_count": 13,
   "id": "9e82f175",
   "metadata": {},
   "outputs": [
    {
     "data": {
      "text/html": [
       "<div>\n",
       "<style scoped>\n",
       "    .dataframe tbody tr th:only-of-type {\n",
       "        vertical-align: middle;\n",
       "    }\n",
       "\n",
       "    .dataframe tbody tr th {\n",
       "        vertical-align: top;\n",
       "    }\n",
       "\n",
       "    .dataframe thead th {\n",
       "        text-align: right;\n",
       "    }\n",
       "</style>\n",
       "<table border=\"1\" class=\"dataframe\">\n",
       "  <thead>\n",
       "    <tr style=\"text-align: right;\">\n",
       "      <th></th>\n",
       "      <th>RiskPerformance</th>\n",
       "      <th>ExternalRiskEstimate</th>\n",
       "      <th>NetFractionRevolvingBurden</th>\n",
       "      <th>AverageMInFile</th>\n",
       "      <th>MSinceOldestTradeOpen</th>\n",
       "      <th>PercentTradesWBalance</th>\n",
       "      <th>PercentInstallTrades</th>\n",
       "      <th>NumSatisfactoryTrades</th>\n",
       "      <th>NumTotalTrades</th>\n",
       "      <th>PercentTradesNeverDelq</th>\n",
       "      <th>MSinceMostRecentInqexcl7days</th>\n",
       "    </tr>\n",
       "  </thead>\n",
       "  <tbody>\n",
       "    <tr>\n",
       "      <th>0</th>\n",
       "      <td>1.0</td>\n",
       "      <td>55</td>\n",
       "      <td>33</td>\n",
       "      <td>84</td>\n",
       "      <td>144.0</td>\n",
       "      <td>69.0</td>\n",
       "      <td>43</td>\n",
       "      <td>20.0</td>\n",
       "      <td>23.0</td>\n",
       "      <td>83</td>\n",
       "      <td>0</td>\n",
       "    </tr>\n",
       "    <tr>\n",
       "      <th>1</th>\n",
       "      <td>1.0</td>\n",
       "      <td>61</td>\n",
       "      <td>0</td>\n",
       "      <td>41</td>\n",
       "      <td>58.0</td>\n",
       "      <td>0.0</td>\n",
       "      <td>67</td>\n",
       "      <td>2.0</td>\n",
       "      <td>7.0</td>\n",
       "      <td>100</td>\n",
       "      <td>0</td>\n",
       "    </tr>\n",
       "    <tr>\n",
       "      <th>2</th>\n",
       "      <td>1.0</td>\n",
       "      <td>67</td>\n",
       "      <td>53</td>\n",
       "      <td>24</td>\n",
       "      <td>66.0</td>\n",
       "      <td>86.0</td>\n",
       "      <td>44</td>\n",
       "      <td>9.0</td>\n",
       "      <td>9.0</td>\n",
       "      <td>100</td>\n",
       "      <td>0</td>\n",
       "    </tr>\n",
       "    <tr>\n",
       "      <th>3</th>\n",
       "      <td>1.0</td>\n",
       "      <td>66</td>\n",
       "      <td>72</td>\n",
       "      <td>73</td>\n",
       "      <td>169.0</td>\n",
       "      <td>91.0</td>\n",
       "      <td>57</td>\n",
       "      <td>28.0</td>\n",
       "      <td>30.0</td>\n",
       "      <td>93</td>\n",
       "      <td>0</td>\n",
       "    </tr>\n",
       "    <tr>\n",
       "      <th>4</th>\n",
       "      <td>1.0</td>\n",
       "      <td>81</td>\n",
       "      <td>51</td>\n",
       "      <td>132</td>\n",
       "      <td>333.0</td>\n",
       "      <td>80.0</td>\n",
       "      <td>25</td>\n",
       "      <td>12.0</td>\n",
       "      <td>12.0</td>\n",
       "      <td>100</td>\n",
       "      <td>0</td>\n",
       "    </tr>\n",
       "  </tbody>\n",
       "</table>\n",
       "</div>"
      ],
      "text/plain": [
       "   RiskPerformance  ExternalRiskEstimate  NetFractionRevolvingBurden  \\\n",
       "0              1.0                    55                          33   \n",
       "1              1.0                    61                           0   \n",
       "2              1.0                    67                          53   \n",
       "3              1.0                    66                          72   \n",
       "4              1.0                    81                          51   \n",
       "\n",
       "   AverageMInFile  MSinceOldestTradeOpen  PercentTradesWBalance  \\\n",
       "0              84                  144.0                   69.0   \n",
       "1              41                   58.0                    0.0   \n",
       "2              24                   66.0                   86.0   \n",
       "3              73                  169.0                   91.0   \n",
       "4             132                  333.0                   80.0   \n",
       "\n",
       "   PercentInstallTrades  NumSatisfactoryTrades  NumTotalTrades  \\\n",
       "0                    43                   20.0            23.0   \n",
       "1                    67                    2.0             7.0   \n",
       "2                    44                    9.0             9.0   \n",
       "3                    57                   28.0            30.0   \n",
       "4                    25                   12.0            12.0   \n",
       "\n",
       "   PercentTradesNeverDelq  MSinceMostRecentInqexcl7days  \n",
       "0                      83                             0  \n",
       "1                     100                             0  \n",
       "2                     100                             0  \n",
       "3                      93                             0  \n",
       "4                     100                             0  "
      ]
     },
     "execution_count": 13,
     "metadata": {},
     "output_type": "execute_result"
    }
   ],
   "source": [
    "### Load file --------------------------------------------\n",
    "df2 = pd.read_csv('FICO_dataset_reduced_MOD.csv', sep = \";\")\n",
    "df2.head()"
   ]
  },
  {
   "cell_type": "code",
   "execution_count": 14,
   "id": "27159494",
   "metadata": {},
   "outputs": [
    {
     "name": "stdout",
     "output_type": "stream",
     "text": [
      "Shape of the DataFrame =  (7442, 11)\n"
     ]
    }
   ],
   "source": [
    "print(\"Shape of the DataFrame = \", df2.shape)"
   ]
  },
  {
   "cell_type": "markdown",
   "id": "e5e92fa1",
   "metadata": {},
   "source": [
    "As we can see, there are 11 variables. Of those 11, 10 are independent, including:\n",
    "\n",
    "- **ExternalRiskEstimate**: A measure of borrower's riskiness based on consolidated external data sources.\n",
    "\n",
    "- **NetFractionRevolvingBurden**: The proportion of an individual's current credit usage compared to their maximum allowed credit.\n",
    "\n",
    "- **AverageMInFile**: The average duration, in months, of the trades in a borrower's credit file.\n",
    "\n",
    "- **MSinceOldestTradeOpen**: The age, in months, of a borrower's oldest credit account.\n",
    "\n",
    "- **PercentTradesWBalance**: The percentage of ????.\n",
    "\n",
    "- **PercentInstallTrades**: The percentage of a borrower's credit accounts that have fixed payment terms over a specified period.\n",
    "\n",
    "- **NumSatisfactoryTrades**: Count of trades where a borrower has met obligations satisfactorily.\n",
    "\n",
    "- **NumTotalTrades**: Number of Total Trades (total number of credit accounts).\n",
    "\n",
    "- **MSinceMostRecentInqexcl7days**: Months since the last credit inquiry, ignoring the most recent week.\n",
    "\n",
    "- **PercentTradesNeverDelq**: The percentage of a borrower's trades with no history of delinquency.\n",
    "\n",
    "Therefore, the variable to be predicted is:\n",
    "\n",
    "- **RiskPerformance**: Paid as negotiated flag (12-36 months). Class variable (0 or 1)."
   ]
  },
  {
   "cell_type": "markdown",
   "id": "8d6adb67",
   "metadata": {},
   "source": [
    "### STEP 2: CHECK OUT THE MISSING VALUES"
   ]
  },
  {
   "cell_type": "code",
   "execution_count": 15,
   "id": "15c5676b",
   "metadata": {},
   "outputs": [
    {
     "name": "stdout",
     "output_type": "stream",
     "text": [
      "<class 'pandas.core.frame.DataFrame'>\n",
      "RangeIndex: 7442 entries, 0 to 7441\n",
      "Data columns (total 11 columns):\n",
      " #   Column                        Non-Null Count  Dtype  \n",
      "---  ------                        --------------  -----  \n",
      " 0   RiskPerformance               5245 non-null   float64\n",
      " 1   ExternalRiskEstimate          7442 non-null   int64  \n",
      " 2   NetFractionRevolvingBurden    7442 non-null   int64  \n",
      " 3   AverageMInFile                7442 non-null   int64  \n",
      " 4   MSinceOldestTradeOpen         7415 non-null   float64\n",
      " 5   PercentTradesWBalance         7386 non-null   float64\n",
      " 6   PercentInstallTrades          7442 non-null   int64  \n",
      " 7   NumSatisfactoryTrades         7425 non-null   float64\n",
      " 8   NumTotalTrades                7419 non-null   float64\n",
      " 9   PercentTradesNeverDelq        7442 non-null   int64  \n",
      " 10  MSinceMostRecentInqexcl7days  7442 non-null   int64  \n",
      "dtypes: float64(5), int64(6)\n",
      "memory usage: 639.7 KB\n"
     ]
    }
   ],
   "source": [
    "### Info and type of variables & missing\n",
    "df2.info()"
   ]
  },
  {
   "cell_type": "markdown",
   "id": "c2848740",
   "metadata": {},
   "source": [
    "We can observe that there are several missing values. Appart from that, it is also necessary to change the type of our response variable, and also we could reassign the type of the *float64* ones to *int64*."
   ]
  },
  {
   "cell_type": "code",
   "execution_count": 18,
   "id": "e4e1d504",
   "metadata": {},
   "outputs": [
    {
     "name": "stdout",
     "output_type": "stream",
     "text": [
      "<class 'pandas.core.frame.DataFrame'>\n",
      "Index: 5122 entries, 0 to 7441\n",
      "Data columns (total 11 columns):\n",
      " #   Column                        Non-Null Count  Dtype  \n",
      "---  ------                        --------------  -----  \n",
      " 0   RiskPerformance               5122 non-null   float64\n",
      " 1   ExternalRiskEstimate          5122 non-null   int64  \n",
      " 2   NetFractionRevolvingBurden    5122 non-null   int64  \n",
      " 3   AverageMInFile                5122 non-null   int64  \n",
      " 4   MSinceOldestTradeOpen         5122 non-null   float64\n",
      " 5   PercentTradesWBalance         5122 non-null   float64\n",
      " 6   PercentInstallTrades          5122 non-null   int64  \n",
      " 7   NumSatisfactoryTrades         5122 non-null   float64\n",
      " 8   NumTotalTrades                5122 non-null   float64\n",
      " 9   PercentTradesNeverDelq        5122 non-null   int64  \n",
      " 10  MSinceMostRecentInqexcl7days  5122 non-null   int64  \n",
      "dtypes: float64(5), int64(6)\n",
      "memory usage: 480.2 KB\n"
     ]
    }
   ],
   "source": [
    "### Basic removal of missing values\n",
    "#df = df2.interpolate(method= 'nearest', axis = 0)\n",
    "df = df2.dropna(inplace=False) #Inplace for \"really\" elminiating the rows in the dataframe\n",
    "#Check \"axis\" or \"subset\" arguments for additional options.\n",
    "#Check results\n",
    "df.info()"
   ]
  },
  {
   "cell_type": "markdown",
   "id": "28674cb8",
   "metadata": {},
   "source": [
    "### STEP 3: ENCODE CATEGORICAL VARIABLES"
   ]
  },
  {
   "cell_type": "code",
   "execution_count": 19,
   "id": "6f615f2c",
   "metadata": {},
   "outputs": [
    {
     "name": "stdout",
     "output_type": "stream",
     "text": [
      "<class 'pandas.core.frame.DataFrame'>\n",
      "Index: 5122 entries, 0 to 7441\n",
      "Data columns (total 11 columns):\n",
      " #   Column                        Non-Null Count  Dtype   \n",
      "---  ------                        --------------  -----   \n",
      " 0   RiskPerformance               5122 non-null   category\n",
      " 1   ExternalRiskEstimate          5122 non-null   int64   \n",
      " 2   NetFractionRevolvingBurden    5122 non-null   int64   \n",
      " 3   AverageMInFile                5122 non-null   int64   \n",
      " 4   MSinceOldestTradeOpen         5122 non-null   float64 \n",
      " 5   PercentTradesWBalance         5122 non-null   float64 \n",
      " 6   PercentInstallTrades          5122 non-null   int64   \n",
      " 7   NumSatisfactoryTrades         5122 non-null   float64 \n",
      " 8   NumTotalTrades                5122 non-null   float64 \n",
      " 9   PercentTradesNeverDelq        5122 non-null   int64   \n",
      " 10  MSinceMostRecentInqexcl7days  5122 non-null   int64   \n",
      "dtypes: category(1), float64(4), int64(6)\n",
      "memory usage: 445.3 KB\n"
     ]
    },
    {
     "name": "stderr",
     "output_type": "stream",
     "text": [
      "C:\\Users\\juanl\\AppData\\Local\\Temp\\ipykernel_18488\\3737155944.py:4: SettingWithCopyWarning: \n",
      "A value is trying to be set on a copy of a slice from a DataFrame.\n",
      "Try using .loc[row_indexer,col_indexer] = value instead\n",
      "\n",
      "See the caveats in the documentation: https://pandas.pydata.org/pandas-docs/stable/user_guide/indexing.html#returning-a-view-versus-a-copy\n",
      "  df.RiskPerformance = df.RiskPerformance.astype('category')\n"
     ]
    }
   ],
   "source": [
    "#There are no categorical input variables\n",
    "\n",
    "### Convert output variable to factor\n",
    "df.RiskPerformance = df.RiskPerformance.astype('category')\n",
    "df.info()"
   ]
  },
  {
   "cell_type": "markdown",
   "id": "b2c61bd5",
   "metadata": {},
   "source": [
    "### STEP 4: PLOT THE DATA AND CHECK OUT FOR OUTLIERS"
   ]
  },
  {
   "cell_type": "code",
   "execution_count": 20,
   "id": "6777e114",
   "metadata": {},
   "outputs": [
    {
     "data": {
      "text/html": [
       "<div>\n",
       "<style scoped>\n",
       "    .dataframe tbody tr th:only-of-type {\n",
       "        vertical-align: middle;\n",
       "    }\n",
       "\n",
       "    .dataframe tbody tr th {\n",
       "        vertical-align: top;\n",
       "    }\n",
       "\n",
       "    .dataframe thead th {\n",
       "        text-align: right;\n",
       "    }\n",
       "</style>\n",
       "<table border=\"1\" class=\"dataframe\">\n",
       "  <thead>\n",
       "    <tr style=\"text-align: right;\">\n",
       "      <th></th>\n",
       "      <th>ExternalRiskEstimate</th>\n",
       "      <th>NetFractionRevolvingBurden</th>\n",
       "      <th>AverageMInFile</th>\n",
       "      <th>MSinceOldestTradeOpen</th>\n",
       "      <th>PercentTradesWBalance</th>\n",
       "      <th>PercentInstallTrades</th>\n",
       "      <th>NumSatisfactoryTrades</th>\n",
       "      <th>NumTotalTrades</th>\n",
       "      <th>PercentTradesNeverDelq</th>\n",
       "      <th>MSinceMostRecentInqexcl7days</th>\n",
       "    </tr>\n",
       "  </thead>\n",
       "  <tbody>\n",
       "    <tr>\n",
       "      <th>count</th>\n",
       "      <td>5122.000000</td>\n",
       "      <td>5122.000000</td>\n",
       "      <td>5122.000000</td>\n",
       "      <td>5122.00000</td>\n",
       "      <td>5122.000000</td>\n",
       "      <td>5122.000000</td>\n",
       "      <td>5122.000000</td>\n",
       "      <td>5122.000000</td>\n",
       "      <td>5122.000000</td>\n",
       "      <td>5122.00000</td>\n",
       "    </tr>\n",
       "    <tr>\n",
       "      <th>mean</th>\n",
       "      <td>71.101913</td>\n",
       "      <td>34.588052</td>\n",
       "      <td>77.169075</td>\n",
       "      <td>200.73116</td>\n",
       "      <td>65.480476</td>\n",
       "      <td>34.601913</td>\n",
       "      <td>21.138032</td>\n",
       "      <td>22.850059</td>\n",
       "      <td>91.311597</td>\n",
       "      <td>2.19387</td>\n",
       "    </tr>\n",
       "    <tr>\n",
       "      <th>std</th>\n",
       "      <td>12.593976</td>\n",
       "      <td>29.112502</td>\n",
       "      <td>33.560991</td>\n",
       "      <td>99.22485</td>\n",
       "      <td>22.773417</td>\n",
       "      <td>17.386041</td>\n",
       "      <td>11.302047</td>\n",
       "      <td>12.250118</td>\n",
       "      <td>15.225203</td>\n",
       "      <td>5.00721</td>\n",
       "    </tr>\n",
       "    <tr>\n",
       "      <th>min</th>\n",
       "      <td>-9.000000</td>\n",
       "      <td>-9.000000</td>\n",
       "      <td>-9.000000</td>\n",
       "      <td>-9.00000</td>\n",
       "      <td>-9.000000</td>\n",
       "      <td>-9.000000</td>\n",
       "      <td>-9.000000</td>\n",
       "      <td>-9.000000</td>\n",
       "      <td>-9.000000</td>\n",
       "      <td>-9.00000</td>\n",
       "    </tr>\n",
       "    <tr>\n",
       "      <th>25%</th>\n",
       "      <td>64.000000</td>\n",
       "      <td>8.250000</td>\n",
       "      <td>57.000000</td>\n",
       "      <td>135.25000</td>\n",
       "      <td>50.000000</td>\n",
       "      <td>22.000000</td>\n",
       "      <td>13.000000</td>\n",
       "      <td>15.000000</td>\n",
       "      <td>89.000000</td>\n",
       "      <td>0.00000</td>\n",
       "    </tr>\n",
       "    <tr>\n",
       "      <th>50%</th>\n",
       "      <td>72.000000</td>\n",
       "      <td>29.000000</td>\n",
       "      <td>75.000000</td>\n",
       "      <td>185.00000</td>\n",
       "      <td>67.000000</td>\n",
       "      <td>33.000000</td>\n",
       "      <td>20.000000</td>\n",
       "      <td>22.000000</td>\n",
       "      <td>97.000000</td>\n",
       "      <td>0.00000</td>\n",
       "    </tr>\n",
       "    <tr>\n",
       "      <th>75%</th>\n",
       "      <td>80.000000</td>\n",
       "      <td>56.000000</td>\n",
       "      <td>94.000000</td>\n",
       "      <td>260.00000</td>\n",
       "      <td>82.000000</td>\n",
       "      <td>46.000000</td>\n",
       "      <td>28.000000</td>\n",
       "      <td>30.000000</td>\n",
       "      <td>100.000000</td>\n",
       "      <td>3.00000</td>\n",
       "    </tr>\n",
       "    <tr>\n",
       "      <th>max</th>\n",
       "      <td>93.000000</td>\n",
       "      <td>232.000000</td>\n",
       "      <td>322.000000</td>\n",
       "      <td>604.00000</td>\n",
       "      <td>100.000000</td>\n",
       "      <td>100.000000</td>\n",
       "      <td>78.000000</td>\n",
       "      <td>100.000000</td>\n",
       "      <td>100.000000</td>\n",
       "      <td>24.00000</td>\n",
       "    </tr>\n",
       "  </tbody>\n",
       "</table>\n",
       "</div>"
      ],
      "text/plain": [
       "       ExternalRiskEstimate  NetFractionRevolvingBurden  AverageMInFile  \\\n",
       "count           5122.000000                 5122.000000     5122.000000   \n",
       "mean              71.101913                   34.588052       77.169075   \n",
       "std               12.593976                   29.112502       33.560991   \n",
       "min               -9.000000                   -9.000000       -9.000000   \n",
       "25%               64.000000                    8.250000       57.000000   \n",
       "50%               72.000000                   29.000000       75.000000   \n",
       "75%               80.000000                   56.000000       94.000000   \n",
       "max               93.000000                  232.000000      322.000000   \n",
       "\n",
       "       MSinceOldestTradeOpen  PercentTradesWBalance  PercentInstallTrades  \\\n",
       "count             5122.00000            5122.000000           5122.000000   \n",
       "mean               200.73116              65.480476             34.601913   \n",
       "std                 99.22485              22.773417             17.386041   \n",
       "min                 -9.00000              -9.000000             -9.000000   \n",
       "25%                135.25000              50.000000             22.000000   \n",
       "50%                185.00000              67.000000             33.000000   \n",
       "75%                260.00000              82.000000             46.000000   \n",
       "max                604.00000             100.000000            100.000000   \n",
       "\n",
       "       NumSatisfactoryTrades  NumTotalTrades  PercentTradesNeverDelq  \\\n",
       "count            5122.000000     5122.000000             5122.000000   \n",
       "mean               21.138032       22.850059               91.311597   \n",
       "std                11.302047       12.250118               15.225203   \n",
       "min                -9.000000       -9.000000               -9.000000   \n",
       "25%                13.000000       15.000000               89.000000   \n",
       "50%                20.000000       22.000000               97.000000   \n",
       "75%                28.000000       30.000000              100.000000   \n",
       "max                78.000000      100.000000              100.000000   \n",
       "\n",
       "       MSinceMostRecentInqexcl7days  \n",
       "count                    5122.00000  \n",
       "mean                        2.19387  \n",
       "std                         5.00721  \n",
       "min                        -9.00000  \n",
       "25%                         0.00000  \n",
       "50%                         0.00000  \n",
       "75%                         3.00000  \n",
       "max                        24.00000  "
      ]
     },
     "execution_count": 20,
     "metadata": {},
     "output_type": "execute_result"
    }
   ],
   "source": [
    "# Data types\n",
    "df.describe()"
   ]
  },
  {
   "cell_type": "markdown",
   "id": "72110f29",
   "metadata": {},
   "source": [
    "Aquí yo comentaría un poco y haría subplots. Uno de histogramas, otro de boxplots y otro de scatterplots para ver las formas, outliers, etc. Tras eso, se puede comprobar la normalidad de cada uno por si fuese necesario, y luego un estudio de la varaiable categórica más profundo, para proseguir con relaciones entre variables."
   ]
  },
  {
   "cell_type": "code",
   "execution_count": null,
   "id": "13a93eba",
   "metadata": {},
   "outputs": [],
   "source": []
  },
  {
   "cell_type": "code",
   "execution_count": null,
   "id": "8d16d281",
   "metadata": {},
   "outputs": [],
   "source": []
  },
  {
   "cell_type": "code",
   "execution_count": null,
   "id": "3b7fc877",
   "metadata": {},
   "outputs": [],
   "source": []
  },
  {
   "cell_type": "code",
   "execution_count": null,
   "id": "32fbce7f",
   "metadata": {},
   "outputs": [],
   "source": []
  },
  {
   "cell_type": "code",
   "execution_count": null,
   "id": "400ee69a",
   "metadata": {},
   "outputs": [],
   "source": []
  },
  {
   "cell_type": "code",
   "execution_count": null,
   "id": "ef124f94",
   "metadata": {},
   "outputs": [],
   "source": []
  },
  {
   "cell_type": "code",
   "execution_count": null,
   "id": "9d530c64",
   "metadata": {},
   "outputs": [],
   "source": []
  },
  {
   "cell_type": "code",
   "execution_count": null,
   "id": "428b3c26",
   "metadata": {},
   "outputs": [],
   "source": []
  },
  {
   "cell_type": "code",
   "execution_count": null,
   "id": "c21bd6e3",
   "metadata": {},
   "outputs": [],
   "source": []
  },
  {
   "cell_type": "code",
   "execution_count": null,
   "id": "7673c999",
   "metadata": {},
   "outputs": [],
   "source": []
  },
  {
   "cell_type": "code",
   "execution_count": null,
   "id": "d3177720",
   "metadata": {},
   "outputs": [],
   "source": []
  },
  {
   "cell_type": "code",
   "execution_count": null,
   "id": "0dd6d2fd",
   "metadata": {},
   "outputs": [],
   "source": []
  },
  {
   "cell_type": "code",
   "execution_count": null,
   "id": "7fff96ea",
   "metadata": {},
   "outputs": [],
   "source": []
  },
  {
   "cell_type": "code",
   "execution_count": null,
   "id": "0467dac8",
   "metadata": {},
   "outputs": [],
   "source": []
  },
  {
   "cell_type": "code",
   "execution_count": null,
   "id": "5ae82768",
   "metadata": {},
   "outputs": [],
   "source": []
  },
  {
   "cell_type": "code",
   "execution_count": null,
   "id": "0d7e904e",
   "metadata": {},
   "outputs": [],
   "source": []
  },
  {
   "cell_type": "code",
   "execution_count": null,
   "id": "574f4259",
   "metadata": {},
   "outputs": [],
   "source": []
  },
  {
   "cell_type": "code",
   "execution_count": null,
   "id": "962591a9",
   "metadata": {},
   "outputs": [],
   "source": []
  },
  {
   "cell_type": "code",
   "execution_count": null,
   "id": "94c63756",
   "metadata": {},
   "outputs": [],
   "source": []
  },
  {
   "cell_type": "code",
   "execution_count": null,
   "id": "e7a0dd27",
   "metadata": {},
   "outputs": [],
   "source": []
  },
  {
   "cell_type": "code",
   "execution_count": null,
   "id": "6ecabfcd",
   "metadata": {},
   "outputs": [],
   "source": []
  },
  {
   "cell_type": "code",
   "execution_count": null,
   "id": "591fcbda",
   "metadata": {},
   "outputs": [],
   "source": []
  },
  {
   "cell_type": "code",
   "execution_count": null,
   "id": "b8b9dbcc",
   "metadata": {},
   "outputs": [],
   "source": []
  },
  {
   "cell_type": "code",
   "execution_count": null,
   "id": "277fd3ac",
   "metadata": {},
   "outputs": [],
   "source": []
  },
  {
   "cell_type": "code",
   "execution_count": null,
   "id": "ab870e37",
   "metadata": {},
   "outputs": [],
   "source": []
  },
  {
   "cell_type": "code",
   "execution_count": null,
   "id": "93b3d2ab",
   "metadata": {},
   "outputs": [],
   "source": []
  },
  {
   "cell_type": "code",
   "execution_count": null,
   "id": "3051bf40",
   "metadata": {},
   "outputs": [],
   "source": []
  },
  {
   "cell_type": "code",
   "execution_count": null,
   "id": "bac3119c",
   "metadata": {},
   "outputs": [],
   "source": []
  },
  {
   "cell_type": "code",
   "execution_count": null,
   "id": "b9c8a210",
   "metadata": {},
   "outputs": [],
   "source": []
  },
  {
   "cell_type": "code",
   "execution_count": null,
   "id": "90343895",
   "metadata": {},
   "outputs": [],
   "source": []
  },
  {
   "cell_type": "code",
   "execution_count": null,
   "id": "3034524e",
   "metadata": {},
   "outputs": [],
   "source": []
  },
  {
   "cell_type": "code",
   "execution_count": null,
   "id": "f95ac334",
   "metadata": {},
   "outputs": [],
   "source": []
  },
  {
   "cell_type": "code",
   "execution_count": null,
   "id": "eb295346",
   "metadata": {},
   "outputs": [],
   "source": []
  },
  {
   "cell_type": "code",
   "execution_count": null,
   "id": "66986e08",
   "metadata": {},
   "outputs": [],
   "source": []
  },
  {
   "cell_type": "code",
   "execution_count": null,
   "id": "9d28b9ed",
   "metadata": {},
   "outputs": [],
   "source": []
  }
 ],
 "metadata": {
  "kernelspec": {
   "display_name": "Python 3 (ipykernel)",
   "language": "python",
   "name": "python3"
  },
  "language_info": {
   "codemirror_mode": {
    "name": "ipython",
    "version": 3
   },
   "file_extension": ".py",
   "mimetype": "text/x-python",
   "name": "python",
   "nbconvert_exporter": "python",
   "pygments_lexer": "ipython3",
   "version": "3.11.5"
  }
 },
 "nbformat": 4,
 "nbformat_minor": 5
}
